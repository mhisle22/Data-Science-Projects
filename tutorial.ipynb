{
  "nbformat": 4,
  "nbformat_minor": 0,
  "metadata": {
    "colab": {
      "name": "tutorial.ipynb",
      "provenance": [],
      "authorship_tag": "ABX9TyP62rnImQuE9kukh/Jhwt2Q",
      "include_colab_link": true
    },
    "kernelspec": {
      "name": "python3",
      "display_name": "Python 3"
    }
  },
  "cells": [
    {
      "cell_type": "markdown",
      "metadata": {
        "id": "view-in-github",
        "colab_type": "text"
      },
      "source": [
        "<a href=\"https://colab.research.google.com/github/mhisle22/Data-Science-Projects/blob/master/tutorial.ipynb\" target=\"_parent\"><img src=\"https://colab.research.google.com/assets/colab-badge.svg\" alt=\"Open In Colab\"/></a>"
      ]
    },
    {
      "cell_type": "markdown",
      "metadata": {
        "id": "Iog7Yccs9EQQ",
        "colab_type": "text"
      },
      "source": [
        "#Keras Deep-Learning Tutorial\n",
        "\n",
        "Based on https://machinelearningmastery.com/tutorial-first-neural-network-python-keras/"
      ]
    },
    {
      "cell_type": "code",
      "metadata": {
        "id": "elcPijRM9DLY",
        "colab_type": "code",
        "colab": {
          "base_uri": "https://localhost:8080/",
          "height": 34
        },
        "outputId": "23ad2fb9-bff2-49b4-b020-ed9bc5f8d1e0"
      },
      "source": [
        "from numpy import loadtxt\n",
        "from keras.models import Sequential\n",
        "from keras.layers import Dense"
      ],
      "execution_count": 1,
      "outputs": [
        {
          "output_type": "stream",
          "text": [
            "Using TensorFlow backend.\n"
          ],
          "name": "stderr"
        }
      ]
    },
    {
      "cell_type": "code",
      "metadata": {
        "id": "uiloTA6d9Ywv",
        "colab_type": "code",
        "colab": {
          "resources": {
            "http://localhost:8080/nbextensions/google.colab/files.js": {
              "data": "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",
              "ok": true,
              "headers": [
                [
                  "content-type",
                  "application/javascript"
                ]
              ],
              "status": 200,
              "status_text": ""
            }
          },
          "base_uri": "https://localhost:8080/",
          "height": 74
        },
        "outputId": "45869764-8bc6-4c61-bca0-ae736c8135f3"
      },
      "source": [
        "from google.colab import files\n",
        "import io\n",
        "\n",
        "#locally upload the census data file\n",
        "uploaded = files.upload() \n",
        "\n",
        "# load the dataset\n",
        "dataset = loadtxt(io.BytesIO(uploaded['pima-indians-diabetes.csv']), delimiter=',')\n",
        "# split into input (X) and output (y) variables\n",
        "X = dataset[:,0:8]\n",
        "y = dataset[:,8]"
      ],
      "execution_count": 5,
      "outputs": [
        {
          "output_type": "display_data",
          "data": {
            "text/html": [
              "\n",
              "     <input type=\"file\" id=\"files-df10b115-4ba8-475a-819a-e3a4b791091a\" name=\"files[]\" multiple disabled />\n",
              "     <output id=\"result-df10b115-4ba8-475a-819a-e3a4b791091a\">\n",
              "      Upload widget is only available when the cell has been executed in the\n",
              "      current browser session. Please rerun this cell to enable.\n",
              "      </output>\n",
              "      <script src=\"/nbextensions/google.colab/files.js\"></script> "
            ],
            "text/plain": [
              "<IPython.core.display.HTML object>"
            ]
          },
          "metadata": {
            "tags": []
          }
        },
        {
          "output_type": "stream",
          "text": [
            "Saving pima-indians-diabetes.csv to pima-indians-diabetes (2).csv\n"
          ],
          "name": "stdout"
        }
      ]
    },
    {
      "cell_type": "code",
      "metadata": {
        "id": "TjS24aqL-UH4",
        "colab_type": "code",
        "colab": {}
      },
      "source": [
        "# define the keras model\n",
        "model = Sequential()\n",
        "model.add(Dense(12, input_dim=8, activation='relu'))\n",
        "model.add(Dense(8, activation='relu'))\n",
        "model.add(Dense(1, activation='sigmoid'))"
      ],
      "execution_count": 0,
      "outputs": []
    },
    {
      "cell_type": "markdown",
      "metadata": {
        "id": "UNE2p1nNBpZY",
        "colab_type": "text"
      },
      "source": [
        "We can piece it all together by adding each layer:\n",
        "\n",
        "* The model expects rows of data with 8 variables (the input_dim=8 argument)\n",
        "* The first hidden layer has 12 nodes and uses the relu activation function.\n",
        "* The second hidden layer has 8 nodes and uses the relu activation function.\n",
        "* The output layer has one node and uses the sigmoid activation function."
      ]
    },
    {
      "cell_type": "code",
      "metadata": {
        "id": "cQaxn8vtBiOa",
        "colab_type": "code",
        "colab": {}
      },
      "source": [
        "# compile the keras model\n",
        "model.compile(loss='binary_crossentropy', optimizer='adam', metrics=['accuracy'])"
      ],
      "execution_count": 0,
      "outputs": []
    },
    {
      "cell_type": "markdown",
      "metadata": {
        "id": "dKIAhuieCPJL",
        "colab_type": "text"
      },
      "source": [
        "The training process will run for a fixed number of iterations through the dataset called epochs, that we must specify using the epochs argument. We must also set the number of dataset rows that are considered before the model weights are updated within each epoch, called the batch size and set using the batch_size argument.\n",
        "\n",
        "For this problem, we will run for a small number of epochs (150) and use a relatively small batch size of 10.\n",
        "\n",
        "These configurations can be chosen experimentally by trial and error. We want to train the model enough so that it learns a good (or good enough) mapping of rows of input data to the output classification. The model will always have some error, but the amount of error will level out after some point for a given model configuration. This is called model convergence."
      ]
    },
    {
      "cell_type": "code",
      "metadata": {
        "id": "B2Hc-LMYB_MD",
        "colab_type": "code",
        "colab": {
          "base_uri": "https://localhost:8080/",
          "height": 1000
        },
        "outputId": "dd387f2f-fbd0-4aac-8d95-fffb7bb05c37"
      },
      "source": [
        "# fit the keras model on the dataset\n",
        "model.fit(X, y, epochs=150, batch_size=10)"
      ],
      "execution_count": 11,
      "outputs": [
        {
          "output_type": "stream",
          "text": [
            "Epoch 1/175\n",
            "768/768 [==============================] - 0s 128us/step - loss: 0.5174 - accuracy: 0.7474\n",
            "Epoch 2/175\n",
            "768/768 [==============================] - 0s 124us/step - loss: 0.4909 - accuracy: 0.7591\n",
            "Epoch 3/175\n",
            "768/768 [==============================] - 0s 124us/step - loss: 0.5104 - accuracy: 0.7435\n",
            "Epoch 4/175\n",
            "768/768 [==============================] - 0s 133us/step - loss: 0.5062 - accuracy: 0.7513\n",
            "Epoch 5/175\n",
            "768/768 [==============================] - 0s 124us/step - loss: 0.4888 - accuracy: 0.7591\n",
            "Epoch 6/175\n",
            "768/768 [==============================] - 0s 117us/step - loss: 0.4977 - accuracy: 0.7513\n",
            "Epoch 7/175\n",
            "768/768 [==============================] - 0s 114us/step - loss: 0.5005 - accuracy: 0.7526\n",
            "Epoch 8/175\n",
            "768/768 [==============================] - 0s 111us/step - loss: 0.4967 - accuracy: 0.7474\n",
            "Epoch 9/175\n",
            "768/768 [==============================] - 0s 113us/step - loss: 0.4984 - accuracy: 0.7669\n",
            "Epoch 10/175\n",
            "768/768 [==============================] - 0s 110us/step - loss: 0.5101 - accuracy: 0.7669\n",
            "Epoch 11/175\n",
            "768/768 [==============================] - 0s 120us/step - loss: 0.4965 - accuracy: 0.7552\n",
            "Epoch 12/175\n",
            "768/768 [==============================] - 0s 117us/step - loss: 0.4948 - accuracy: 0.7513\n",
            "Epoch 13/175\n",
            "768/768 [==============================] - 0s 126us/step - loss: 0.5063 - accuracy: 0.7500\n",
            "Epoch 14/175\n",
            "768/768 [==============================] - 0s 119us/step - loss: 0.4982 - accuracy: 0.7578\n",
            "Epoch 15/175\n",
            "768/768 [==============================] - 0s 116us/step - loss: 0.4923 - accuracy: 0.7656\n",
            "Epoch 16/175\n",
            "768/768 [==============================] - 0s 113us/step - loss: 0.4943 - accuracy: 0.7565\n",
            "Epoch 17/175\n",
            "768/768 [==============================] - 0s 129us/step - loss: 0.4880 - accuracy: 0.7565\n",
            "Epoch 18/175\n",
            "768/768 [==============================] - 0s 116us/step - loss: 0.4889 - accuracy: 0.7760\n",
            "Epoch 19/175\n",
            "768/768 [==============================] - 0s 118us/step - loss: 0.4952 - accuracy: 0.7500\n",
            "Epoch 20/175\n",
            "768/768 [==============================] - 0s 120us/step - loss: 0.4925 - accuracy: 0.7734\n",
            "Epoch 21/175\n",
            "768/768 [==============================] - 0s 115us/step - loss: 0.4952 - accuracy: 0.7630\n",
            "Epoch 22/175\n",
            "768/768 [==============================] - 0s 120us/step - loss: 0.4916 - accuracy: 0.7656\n",
            "Epoch 23/175\n",
            "768/768 [==============================] - 0s 121us/step - loss: 0.5053 - accuracy: 0.7461\n",
            "Epoch 24/175\n",
            "768/768 [==============================] - 0s 115us/step - loss: 0.4945 - accuracy: 0.7604\n",
            "Epoch 25/175\n",
            "768/768 [==============================] - 0s 112us/step - loss: 0.4924 - accuracy: 0.7474\n",
            "Epoch 26/175\n",
            "768/768 [==============================] - 0s 111us/step - loss: 0.4837 - accuracy: 0.7643\n",
            "Epoch 27/175\n",
            "768/768 [==============================] - 0s 110us/step - loss: 0.4894 - accuracy: 0.7656\n",
            "Epoch 28/175\n",
            "768/768 [==============================] - 0s 113us/step - loss: 0.4834 - accuracy: 0.7708\n",
            "Epoch 29/175\n",
            "768/768 [==============================] - 0s 116us/step - loss: 0.4926 - accuracy: 0.7617\n",
            "Epoch 30/175\n",
            "768/768 [==============================] - 0s 114us/step - loss: 0.5078 - accuracy: 0.7552\n",
            "Epoch 31/175\n",
            "768/768 [==============================] - 0s 120us/step - loss: 0.4863 - accuracy: 0.7695\n",
            "Epoch 32/175\n",
            "768/768 [==============================] - 0s 121us/step - loss: 0.4873 - accuracy: 0.7617\n",
            "Epoch 33/175\n",
            "768/768 [==============================] - 0s 115us/step - loss: 0.4854 - accuracy: 0.7708\n",
            "Epoch 34/175\n",
            "768/768 [==============================] - 0s 114us/step - loss: 0.4780 - accuracy: 0.7747\n",
            "Epoch 35/175\n",
            "768/768 [==============================] - 0s 112us/step - loss: 0.4812 - accuracy: 0.7682\n",
            "Epoch 36/175\n",
            "768/768 [==============================] - 0s 111us/step - loss: 0.4930 - accuracy: 0.7630\n",
            "Epoch 37/175\n",
            "768/768 [==============================] - 0s 111us/step - loss: 0.4914 - accuracy: 0.7604\n",
            "Epoch 38/175\n",
            "768/768 [==============================] - 0s 117us/step - loss: 0.4892 - accuracy: 0.7682\n",
            "Epoch 39/175\n",
            "768/768 [==============================] - 0s 115us/step - loss: 0.5017 - accuracy: 0.7578\n",
            "Epoch 40/175\n",
            "768/768 [==============================] - 0s 111us/step - loss: 0.4863 - accuracy: 0.7617\n",
            "Epoch 41/175\n",
            "768/768 [==============================] - 0s 108us/step - loss: 0.4923 - accuracy: 0.7682\n",
            "Epoch 42/175\n",
            "768/768 [==============================] - 0s 110us/step - loss: 0.4775 - accuracy: 0.7721\n",
            "Epoch 43/175\n",
            "768/768 [==============================] - 0s 114us/step - loss: 0.4903 - accuracy: 0.7643\n",
            "Epoch 44/175\n",
            "768/768 [==============================] - 0s 111us/step - loss: 0.4892 - accuracy: 0.7591\n",
            "Epoch 45/175\n",
            "768/768 [==============================] - 0s 129us/step - loss: 0.4792 - accuracy: 0.7669\n",
            "Epoch 46/175\n",
            "768/768 [==============================] - 0s 109us/step - loss: 0.4773 - accuracy: 0.7643\n",
            "Epoch 47/175\n",
            "768/768 [==============================] - 0s 110us/step - loss: 0.4854 - accuracy: 0.7552\n",
            "Epoch 48/175\n",
            "768/768 [==============================] - 0s 115us/step - loss: 0.4887 - accuracy: 0.7578\n",
            "Epoch 49/175\n",
            "768/768 [==============================] - 0s 114us/step - loss: 0.4787 - accuracy: 0.7773\n",
            "Epoch 50/175\n",
            "768/768 [==============================] - 0s 128us/step - loss: 0.4812 - accuracy: 0.7760\n",
            "Epoch 51/175\n",
            "768/768 [==============================] - 0s 117us/step - loss: 0.4922 - accuracy: 0.7539\n",
            "Epoch 52/175\n",
            "768/768 [==============================] - 0s 112us/step - loss: 0.4817 - accuracy: 0.7747\n",
            "Epoch 53/175\n",
            "768/768 [==============================] - 0s 115us/step - loss: 0.4768 - accuracy: 0.7734\n",
            "Epoch 54/175\n",
            "768/768 [==============================] - 0s 117us/step - loss: 0.4865 - accuracy: 0.7708\n",
            "Epoch 55/175\n",
            "768/768 [==============================] - 0s 113us/step - loss: 0.4789 - accuracy: 0.7630\n",
            "Epoch 56/175\n",
            "768/768 [==============================] - 0s 120us/step - loss: 0.4821 - accuracy: 0.7643\n",
            "Epoch 57/175\n",
            "768/768 [==============================] - 0s 111us/step - loss: 0.4717 - accuracy: 0.7760\n",
            "Epoch 58/175\n",
            "768/768 [==============================] - 0s 110us/step - loss: 0.4840 - accuracy: 0.7708\n",
            "Epoch 59/175\n",
            "768/768 [==============================] - 0s 114us/step - loss: 0.4953 - accuracy: 0.7513\n",
            "Epoch 60/175\n",
            "768/768 [==============================] - 0s 108us/step - loss: 0.4778 - accuracy: 0.7643\n",
            "Epoch 61/175\n",
            "768/768 [==============================] - 0s 109us/step - loss: 0.4824 - accuracy: 0.7669\n",
            "Epoch 62/175\n",
            "768/768 [==============================] - 0s 110us/step - loss: 0.4780 - accuracy: 0.7643\n",
            "Epoch 63/175\n",
            "768/768 [==============================] - 0s 114us/step - loss: 0.4872 - accuracy: 0.7747\n",
            "Epoch 64/175\n",
            "768/768 [==============================] - 0s 110us/step - loss: 0.4878 - accuracy: 0.7617\n",
            "Epoch 65/175\n",
            "768/768 [==============================] - 0s 125us/step - loss: 0.4752 - accuracy: 0.7708\n",
            "Epoch 66/175\n",
            "768/768 [==============================] - 0s 113us/step - loss: 0.4780 - accuracy: 0.7878\n",
            "Epoch 67/175\n",
            "768/768 [==============================] - 0s 116us/step - loss: 0.4782 - accuracy: 0.7760\n",
            "Epoch 68/175\n",
            "768/768 [==============================] - 0s 110us/step - loss: 0.4823 - accuracy: 0.7656\n",
            "Epoch 69/175\n",
            "768/768 [==============================] - 0s 114us/step - loss: 0.4758 - accuracy: 0.7682\n",
            "Epoch 70/175\n",
            "768/768 [==============================] - 0s 110us/step - loss: 0.4766 - accuracy: 0.7734\n",
            "Epoch 71/175\n",
            "768/768 [==============================] - 0s 111us/step - loss: 0.4759 - accuracy: 0.7708\n",
            "Epoch 72/175\n",
            "768/768 [==============================] - 0s 109us/step - loss: 0.4867 - accuracy: 0.7630\n",
            "Epoch 73/175\n",
            "768/768 [==============================] - 0s 113us/step - loss: 0.4833 - accuracy: 0.7786\n",
            "Epoch 74/175\n",
            "768/768 [==============================] - 0s 109us/step - loss: 0.4744 - accuracy: 0.7669\n",
            "Epoch 75/175\n",
            "768/768 [==============================] - 0s 108us/step - loss: 0.4737 - accuracy: 0.7578\n",
            "Epoch 76/175\n",
            "768/768 [==============================] - 0s 120us/step - loss: 0.4814 - accuracy: 0.7708\n",
            "Epoch 77/175\n",
            "768/768 [==============================] - 0s 128us/step - loss: 0.4780 - accuracy: 0.7760\n",
            "Epoch 78/175\n",
            "768/768 [==============================] - 0s 122us/step - loss: 0.4777 - accuracy: 0.7760\n",
            "Epoch 79/175\n",
            "768/768 [==============================] - 0s 117us/step - loss: 0.4804 - accuracy: 0.7773\n",
            "Epoch 80/175\n",
            "768/768 [==============================] - 0s 110us/step - loss: 0.4804 - accuracy: 0.7734\n",
            "Epoch 81/175\n",
            "768/768 [==============================] - 0s 112us/step - loss: 0.4810 - accuracy: 0.7656\n",
            "Epoch 82/175\n",
            "768/768 [==============================] - 0s 120us/step - loss: 0.4678 - accuracy: 0.7669\n",
            "Epoch 83/175\n",
            "768/768 [==============================] - 0s 109us/step - loss: 0.4781 - accuracy: 0.7643\n",
            "Epoch 84/175\n",
            "768/768 [==============================] - 0s 118us/step - loss: 0.4745 - accuracy: 0.7747\n",
            "Epoch 85/175\n",
            "768/768 [==============================] - 0s 111us/step - loss: 0.4749 - accuracy: 0.7643\n",
            "Epoch 86/175\n",
            "768/768 [==============================] - 0s 121us/step - loss: 0.4742 - accuracy: 0.7695\n",
            "Epoch 87/175\n",
            "768/768 [==============================] - 0s 120us/step - loss: 0.4739 - accuracy: 0.7695\n",
            "Epoch 88/175\n",
            "768/768 [==============================] - 0s 121us/step - loss: 0.4836 - accuracy: 0.7734\n",
            "Epoch 89/175\n",
            "768/768 [==============================] - 0s 130us/step - loss: 0.4757 - accuracy: 0.7747\n",
            "Epoch 90/175\n",
            "768/768 [==============================] - 0s 153us/step - loss: 0.4746 - accuracy: 0.7799\n",
            "Epoch 91/175\n",
            "768/768 [==============================] - 0s 131us/step - loss: 0.4829 - accuracy: 0.7773\n",
            "Epoch 92/175\n",
            "768/768 [==============================] - 0s 132us/step - loss: 0.4797 - accuracy: 0.7799\n",
            "Epoch 93/175\n",
            "768/768 [==============================] - 0s 124us/step - loss: 0.4688 - accuracy: 0.7799\n",
            "Epoch 94/175\n",
            "768/768 [==============================] - 0s 155us/step - loss: 0.4702 - accuracy: 0.7630\n",
            "Epoch 95/175\n",
            "768/768 [==============================] - 0s 136us/step - loss: 0.4814 - accuracy: 0.7760\n",
            "Epoch 96/175\n",
            "768/768 [==============================] - 0s 118us/step - loss: 0.4663 - accuracy: 0.7826\n",
            "Epoch 97/175\n",
            "768/768 [==============================] - 0s 124us/step - loss: 0.4725 - accuracy: 0.7891\n",
            "Epoch 98/175\n",
            "768/768 [==============================] - 0s 117us/step - loss: 0.4706 - accuracy: 0.7760\n",
            "Epoch 99/175\n",
            "768/768 [==============================] - 0s 122us/step - loss: 0.4832 - accuracy: 0.7786\n",
            "Epoch 100/175\n",
            "768/768 [==============================] - 0s 118us/step - loss: 0.4761 - accuracy: 0.7760\n",
            "Epoch 101/175\n",
            "768/768 [==============================] - 0s 120us/step - loss: 0.4742 - accuracy: 0.7656\n",
            "Epoch 102/175\n",
            "768/768 [==============================] - 0s 112us/step - loss: 0.4594 - accuracy: 0.7669\n",
            "Epoch 103/175\n",
            "768/768 [==============================] - 0s 121us/step - loss: 0.4621 - accuracy: 0.7812\n",
            "Epoch 104/175\n",
            "768/768 [==============================] - 0s 126us/step - loss: 0.4750 - accuracy: 0.7721\n",
            "Epoch 105/175\n",
            "768/768 [==============================] - 0s 113us/step - loss: 0.4643 - accuracy: 0.7956\n",
            "Epoch 106/175\n",
            "768/768 [==============================] - 0s 117us/step - loss: 0.4730 - accuracy: 0.7708\n",
            "Epoch 107/175\n",
            "768/768 [==============================] - 0s 115us/step - loss: 0.4709 - accuracy: 0.7826\n",
            "Epoch 108/175\n",
            "768/768 [==============================] - 0s 111us/step - loss: 0.4689 - accuracy: 0.7734\n",
            "Epoch 109/175\n",
            "768/768 [==============================] - 0s 109us/step - loss: 0.4626 - accuracy: 0.7760\n",
            "Epoch 110/175\n",
            "768/768 [==============================] - 0s 115us/step - loss: 0.4721 - accuracy: 0.7604\n",
            "Epoch 111/175\n",
            "768/768 [==============================] - 0s 118us/step - loss: 0.4737 - accuracy: 0.7578\n",
            "Epoch 112/175\n",
            "768/768 [==============================] - 0s 115us/step - loss: 0.4764 - accuracy: 0.7643\n",
            "Epoch 113/175\n",
            "768/768 [==============================] - 0s 112us/step - loss: 0.4726 - accuracy: 0.7747\n",
            "Epoch 114/175\n",
            "768/768 [==============================] - 0s 116us/step - loss: 0.4719 - accuracy: 0.7878\n",
            "Epoch 115/175\n",
            "768/768 [==============================] - 0s 109us/step - loss: 0.4668 - accuracy: 0.7643\n",
            "Epoch 116/175\n",
            "768/768 [==============================] - 0s 121us/step - loss: 0.4695 - accuracy: 0.7747\n",
            "Epoch 117/175\n",
            "768/768 [==============================] - 0s 113us/step - loss: 0.4730 - accuracy: 0.7747\n",
            "Epoch 118/175\n",
            "768/768 [==============================] - 0s 122us/step - loss: 0.4777 - accuracy: 0.7760\n",
            "Epoch 119/175\n",
            "768/768 [==============================] - 0s 116us/step - loss: 0.4724 - accuracy: 0.7747\n",
            "Epoch 120/175\n",
            "768/768 [==============================] - 0s 121us/step - loss: 0.4680 - accuracy: 0.7786\n",
            "Epoch 121/175\n",
            "768/768 [==============================] - 0s 131us/step - loss: 0.4704 - accuracy: 0.7799\n",
            "Epoch 122/175\n",
            "768/768 [==============================] - 0s 139us/step - loss: 0.4710 - accuracy: 0.7812\n",
            "Epoch 123/175\n",
            "768/768 [==============================] - 0s 120us/step - loss: 0.4702 - accuracy: 0.7682\n",
            "Epoch 124/175\n",
            "768/768 [==============================] - 0s 135us/step - loss: 0.4678 - accuracy: 0.7786\n",
            "Epoch 125/175\n",
            "768/768 [==============================] - 0s 128us/step - loss: 0.4582 - accuracy: 0.7839\n",
            "Epoch 126/175\n",
            "768/768 [==============================] - 0s 151us/step - loss: 0.4656 - accuracy: 0.7812\n",
            "Epoch 127/175\n",
            "768/768 [==============================] - 0s 120us/step - loss: 0.4663 - accuracy: 0.7721\n",
            "Epoch 128/175\n",
            "768/768 [==============================] - 0s 114us/step - loss: 0.4671 - accuracy: 0.7656\n",
            "Epoch 129/175\n",
            "768/768 [==============================] - 0s 116us/step - loss: 0.4602 - accuracy: 0.7943\n",
            "Epoch 130/175\n",
            "768/768 [==============================] - 0s 114us/step - loss: 0.4770 - accuracy: 0.7812\n",
            "Epoch 131/175\n",
            "768/768 [==============================] - 0s 111us/step - loss: 0.4644 - accuracy: 0.7865\n",
            "Epoch 132/175\n",
            "768/768 [==============================] - 0s 124us/step - loss: 0.4539 - accuracy: 0.7865\n",
            "Epoch 133/175\n",
            "768/768 [==============================] - 0s 115us/step - loss: 0.4583 - accuracy: 0.7878\n",
            "Epoch 134/175\n",
            "768/768 [==============================] - 0s 122us/step - loss: 0.4739 - accuracy: 0.7747\n",
            "Epoch 135/175\n",
            "768/768 [==============================] - 0s 111us/step - loss: 0.4575 - accuracy: 0.7956\n",
            "Epoch 136/175\n",
            "768/768 [==============================] - 0s 111us/step - loss: 0.4631 - accuracy: 0.7904\n",
            "Epoch 137/175\n",
            "768/768 [==============================] - 0s 110us/step - loss: 0.4706 - accuracy: 0.7747\n",
            "Epoch 138/175\n",
            "768/768 [==============================] - 0s 117us/step - loss: 0.4560 - accuracy: 0.7839\n",
            "Epoch 139/175\n",
            "768/768 [==============================] - 0s 111us/step - loss: 0.4571 - accuracy: 0.7839\n",
            "Epoch 140/175\n",
            "768/768 [==============================] - 0s 114us/step - loss: 0.4576 - accuracy: 0.7826\n",
            "Epoch 141/175\n",
            "768/768 [==============================] - 0s 148us/step - loss: 0.4644 - accuracy: 0.7799\n",
            "Epoch 142/175\n",
            "768/768 [==============================] - 0s 114us/step - loss: 0.4573 - accuracy: 0.7839\n",
            "Epoch 143/175\n",
            "768/768 [==============================] - 0s 126us/step - loss: 0.4588 - accuracy: 0.7865\n",
            "Epoch 144/175\n",
            "768/768 [==============================] - 0s 132us/step - loss: 0.4680 - accuracy: 0.7695\n",
            "Epoch 145/175\n",
            "768/768 [==============================] - 0s 137us/step - loss: 0.4558 - accuracy: 0.7786\n",
            "Epoch 146/175\n",
            "768/768 [==============================] - 0s 116us/step - loss: 0.4673 - accuracy: 0.7839\n",
            "Epoch 147/175\n",
            "768/768 [==============================] - 0s 118us/step - loss: 0.4534 - accuracy: 0.7878\n",
            "Epoch 148/175\n",
            "768/768 [==============================] - 0s 116us/step - loss: 0.4630 - accuracy: 0.7917\n",
            "Epoch 149/175\n",
            "768/768 [==============================] - 0s 116us/step - loss: 0.4716 - accuracy: 0.7799\n",
            "Epoch 150/175\n",
            "768/768 [==============================] - 0s 111us/step - loss: 0.4651 - accuracy: 0.7943\n",
            "Epoch 151/175\n",
            "768/768 [==============================] - 0s 114us/step - loss: 0.4707 - accuracy: 0.7812\n",
            "Epoch 152/175\n",
            "768/768 [==============================] - 0s 115us/step - loss: 0.4594 - accuracy: 0.7734\n",
            "Epoch 153/175\n",
            "768/768 [==============================] - 0s 112us/step - loss: 0.4589 - accuracy: 0.7904\n",
            "Epoch 154/175\n",
            "768/768 [==============================] - 0s 116us/step - loss: 0.4676 - accuracy: 0.7747\n",
            "Epoch 155/175\n",
            "768/768 [==============================] - 0s 116us/step - loss: 0.4624 - accuracy: 0.7839\n",
            "Epoch 156/175\n",
            "768/768 [==============================] - 0s 113us/step - loss: 0.4517 - accuracy: 0.7773\n",
            "Epoch 157/175\n",
            "768/768 [==============================] - 0s 111us/step - loss: 0.4565 - accuracy: 0.7878\n",
            "Epoch 158/175\n",
            "768/768 [==============================] - 0s 111us/step - loss: 0.4607 - accuracy: 0.7760\n",
            "Epoch 159/175\n",
            "768/768 [==============================] - 0s 112us/step - loss: 0.4569 - accuracy: 0.7878\n",
            "Epoch 160/175\n",
            "768/768 [==============================] - 0s 108us/step - loss: 0.4629 - accuracy: 0.7865\n",
            "Epoch 161/175\n",
            "768/768 [==============================] - 0s 113us/step - loss: 0.4538 - accuracy: 0.7891\n",
            "Epoch 162/175\n",
            "768/768 [==============================] - 0s 111us/step - loss: 0.4603 - accuracy: 0.7917\n",
            "Epoch 163/175\n",
            "768/768 [==============================] - 0s 117us/step - loss: 0.4581 - accuracy: 0.7708\n",
            "Epoch 164/175\n",
            "768/768 [==============================] - 0s 115us/step - loss: 0.4562 - accuracy: 0.7812\n",
            "Epoch 165/175\n",
            "768/768 [==============================] - 0s 111us/step - loss: 0.4526 - accuracy: 0.7826\n",
            "Epoch 166/175\n",
            "768/768 [==============================] - 0s 131us/step - loss: 0.4560 - accuracy: 0.7852\n",
            "Epoch 167/175\n",
            "768/768 [==============================] - 0s 118us/step - loss: 0.4636 - accuracy: 0.7773\n",
            "Epoch 168/175\n",
            "768/768 [==============================] - 0s 118us/step - loss: 0.4537 - accuracy: 0.7930\n",
            "Epoch 169/175\n",
            "768/768 [==============================] - 0s 113us/step - loss: 0.4636 - accuracy: 0.7930\n",
            "Epoch 170/175\n",
            "768/768 [==============================] - 0s 114us/step - loss: 0.4669 - accuracy: 0.7760\n",
            "Epoch 171/175\n",
            "768/768 [==============================] - 0s 109us/step - loss: 0.4539 - accuracy: 0.7773\n",
            "Epoch 172/175\n",
            "768/768 [==============================] - 0s 117us/step - loss: 0.4684 - accuracy: 0.7786\n",
            "Epoch 173/175\n",
            "768/768 [==============================] - 0s 116us/step - loss: 0.4590 - accuracy: 0.7682\n",
            "Epoch 174/175\n",
            "768/768 [==============================] - 0s 116us/step - loss: 0.4751 - accuracy: 0.7682\n",
            "Epoch 175/175\n",
            "768/768 [==============================] - 0s 111us/step - loss: 0.4625 - accuracy: 0.7812\n"
          ],
          "name": "stdout"
        },
        {
          "output_type": "execute_result",
          "data": {
            "text/plain": [
              "<keras.callbacks.callbacks.History at 0x7f6c4e2d5c50>"
            ]
          },
          "metadata": {
            "tags": []
          },
          "execution_count": 11
        }
      ]
    },
    {
      "cell_type": "code",
      "metadata": {
        "id": "BGaW3OstCHxF",
        "colab_type": "code",
        "colab": {
          "base_uri": "https://localhost:8080/",
          "height": 51
        },
        "outputId": "ddd3a3e6-200f-43f1-8d85-77947773fc72"
      },
      "source": [
        "# evaluate the keras model\n",
        "_, accuracy = model.evaluate(X, y)\n",
        "print('Accuracy: %.2f' % (accuracy*100))"
      ],
      "execution_count": 12,
      "outputs": [
        {
          "output_type": "stream",
          "text": [
            "768/768 [==============================] - 0s 33us/step\n",
            "Accuracy: 79.17\n"
          ],
          "name": "stdout"
        }
      ]
    },
    {
      "cell_type": "code",
      "metadata": {
        "id": "-UzvErekCgtb",
        "colab_type": "code",
        "colab": {
          "base_uri": "https://localhost:8080/",
          "height": 102
        },
        "outputId": "71d9b641-293a-4536-cb1d-df3a3c0f2b36"
      },
      "source": [
        "# make class predictions with the model\n",
        "predictions = model.predict_classes(X)\n",
        "# summarize the first 5 cases\n",
        "for i in range(5):\n",
        "\tprint('%s => %d (expected %d)' % (X[i].tolist(), predictions[i], y[i]))"
      ],
      "execution_count": 10,
      "outputs": [
        {
          "output_type": "stream",
          "text": [
            "[6.0, 148.0, 72.0, 35.0, 0.0, 33.6, 0.627, 50.0] => 1 (expected 1)\n",
            "[1.0, 85.0, 66.0, 29.0, 0.0, 26.6, 0.351, 31.0] => 0 (expected 0)\n",
            "[8.0, 183.0, 64.0, 0.0, 0.0, 23.3, 0.672, 32.0] => 1 (expected 1)\n",
            "[1.0, 89.0, 66.0, 23.0, 94.0, 28.1, 0.167, 21.0] => 0 (expected 0)\n",
            "[0.0, 137.0, 40.0, 35.0, 168.0, 43.1, 2.288, 33.0] => 0 (expected 1)\n"
          ],
          "name": "stdout"
        }
      ]
    }
  ]
}